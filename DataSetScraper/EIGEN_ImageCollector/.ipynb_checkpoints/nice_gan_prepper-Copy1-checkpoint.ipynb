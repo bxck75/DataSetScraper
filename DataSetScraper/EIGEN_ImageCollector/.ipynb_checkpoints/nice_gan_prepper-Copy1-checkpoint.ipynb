{
 "cells": [
  {
   "cell_type": "markdown",
   "metadata": {},
   "source": [
    "# !pip install gallery-dl\n",
    "\n",
    "add range for how many images you want to scrape example uses flickr (note when scrapping I noticed colab will freeze around 4k to 5k images so either scrape 1k multiple times or you might have to restart colab if you set range to 1-5000)\n"
   ]
  },
  {
   "cell_type": "code",
   "execution_count": 1,
   "metadata": {},
   "outputs": [
    {
     "name": "stdout",
     "output_type": "stream",
     "text": [
      "Counting files....\n"
     ]
    },
    {
     "ename": "UnboundLocalError",
     "evalue": "local variable 'G' referenced before assignment",
     "output_type": "error",
     "traceback": [
      "\u001b[0;31m------------------------------------------------------------------------\u001b[0m",
      "\u001b[0;31mFileExistsError\u001b[0m                        Traceback (most recent call last)",
      "\u001b[0;32m<ipython-input-1-2383c5daf0a6>\u001b[0m in \u001b[0;36m<module>\u001b[0;34m\u001b[0m\n\u001b[1;32m     59\u001b[0m \u001b[0;32mtry\u001b[0m\u001b[0;34m:\u001b[0m\u001b[0;34m\u001b[0m\u001b[0m\n\u001b[0;32m---> 60\u001b[0;31m     \u001b[0mos\u001b[0m\u001b[0;34m.\u001b[0m\u001b[0mmakedirs\u001b[0m\u001b[0;34m(\u001b[0m\u001b[0mfinal_out_path\u001b[0m\u001b[0;34m)\u001b[0m\u001b[0;34m\u001b[0m\u001b[0m\n\u001b[0m\u001b[1;32m     61\u001b[0m \u001b[0;32mexcept\u001b[0m \u001b[0mOSError\u001b[0m \u001b[0;32mas\u001b[0m \u001b[0me\u001b[0m\u001b[0;34m:\u001b[0m\u001b[0;34m\u001b[0m\u001b[0m\n",
      "\u001b[0;32m~/anaconda3/envs/TFB/lib/python3.5/os.py\u001b[0m in \u001b[0;36mmakedirs\u001b[0;34m(name, mode, exist_ok)\u001b[0m\n\u001b[1;32m    240\u001b[0m     \u001b[0;32mtry\u001b[0m\u001b[0;34m:\u001b[0m\u001b[0;34m\u001b[0m\u001b[0m\n\u001b[0;32m--> 241\u001b[0;31m         \u001b[0mmkdir\u001b[0m\u001b[0;34m(\u001b[0m\u001b[0mname\u001b[0m\u001b[0;34m,\u001b[0m \u001b[0mmode\u001b[0m\u001b[0;34m)\u001b[0m\u001b[0;34m\u001b[0m\u001b[0m\n\u001b[0m\u001b[1;32m    242\u001b[0m     \u001b[0;32mexcept\u001b[0m \u001b[0mOSError\u001b[0m \u001b[0;32mas\u001b[0m \u001b[0me\u001b[0m\u001b[0;34m:\u001b[0m\u001b[0;34m\u001b[0m\u001b[0m\n",
      "\u001b[0;31mFileExistsError\u001b[0m: [Errno 17] File exists: 'ripped_images/zombie+portrait/'",
      "\nDuring handling of the above exception, another exception occurred:\n",
      "\u001b[0;31mUnboundLocalError\u001b[0m                      Traceback (most recent call last)",
      "\u001b[0;32m<ipython-input-1-2383c5daf0a6>\u001b[0m in \u001b[0;36m<module>\u001b[0;34m\u001b[0m\n\u001b[1;32m     64\u001b[0m     \u001b[0;32melse\u001b[0m\u001b[0;34m:\u001b[0m\u001b[0;34m\u001b[0m\u001b[0m\n\u001b[1;32m     65\u001b[0m         \u001b[0mprint\u001b[0m\u001b[0;34m(\u001b[0m\u001b[0;34m'Counting files....'\u001b[0m\u001b[0;34m)\u001b[0m\u001b[0;34m\u001b[0m\u001b[0m\n\u001b[0;32m---> 66\u001b[0;31m         \u001b[0mG\u001b[0m\u001b[0;34m,\u001b[0m \u001b[0mF\u001b[0m \u001b[0;34m=\u001b[0m \u001b[0mcheck_file_count\u001b[0m\u001b[0;34m(\u001b[0m\u001b[0mfinal_out_path\u001b[0m\u001b[0;34m)\u001b[0m\u001b[0;34m\u001b[0m\u001b[0m\n\u001b[0m\u001b[1;32m     67\u001b[0m \u001b[0;34m\u001b[0m\u001b[0m\n\u001b[1;32m     68\u001b[0m \u001b[0;31m# Google image run\u001b[0m\u001b[0;34m\u001b[0m\u001b[0;34m\u001b[0m\u001b[0m\n",
      "\u001b[0;32m<ipython-input-1-2383c5daf0a6>\u001b[0m in \u001b[0;36mcheck_file_count\u001b[0;34m(path)\u001b[0m\n\u001b[1;32m     38\u001b[0m             \u001b[0mF\u001b[0m \u001b[0;34m+=\u001b[0m \u001b[0;36m1\u001b[0m\u001b[0;34m\u001b[0m\u001b[0m\n\u001b[1;32m     39\u001b[0m     \u001b[0;31m# if nothing is found set to 0\u001b[0m\u001b[0;34m\u001b[0m\u001b[0;34m\u001b[0m\u001b[0m\n\u001b[0;32m---> 40\u001b[0;31m     \u001b[0;32mif\u001b[0m \u001b[0mG\u001b[0m \u001b[0;34m==\u001b[0m \u001b[0;34m-\u001b[0m\u001b[0;36m1\u001b[0m\u001b[0;34m:\u001b[0m\u001b[0;34m\u001b[0m\u001b[0m\n\u001b[0m\u001b[1;32m     41\u001b[0m         \u001b[0mG\u001b[0m \u001b[0;34m=\u001b[0m \u001b[0;36m0\u001b[0m\u001b[0;34m\u001b[0m\u001b[0m\n\u001b[1;32m     42\u001b[0m     \u001b[0;32mif\u001b[0m \u001b[0mF\u001b[0m \u001b[0;34m==\u001b[0m \u001b[0;34m-\u001b[0m\u001b[0;36m1\u001b[0m\u001b[0;34m:\u001b[0m\u001b[0;34m\u001b[0m\u001b[0m\n",
      "\u001b[0;31mUnboundLocalError\u001b[0m: local variable 'G' referenced before assignment"
     ]
    }
   ],
   "source": [
    "import os,sys,errno\n",
    "\n",
    "Cproof = os.system('apt list | grep \"chromedriver\"')\n",
    "Gproof = os.system('pip list | grep \"google_images_download\"')\n",
    "GDproof = os.system('pip list | grep \"gallery-dl\"')\n",
    "\n",
    "# Install if needed\n",
    "if Cproof == '':\n",
    "    # Google image chromium installer\n",
    "    os.system('apt-get update && apt install chromedriver && pip install selenium')    \n",
    "    from selenium import webdriver       \n",
    "    driver_loc=os.system('which chromedriver')\n",
    "    sys.path.insert(0,driver_loc)\n",
    "    chrome_options = webdriver.ChromeOptions()\n",
    "    chrome_options.add_argument('--headless')\n",
    "    chrome_options.add_argument('--no-sandbox')\n",
    "    chrome_options.add_argument('--disable-dev-shm-usage')\n",
    "    wd = webdriver.Chrome('chromedriver',options=chrome_options)\n",
    "else:\n",
    "    driver_loc=os.system('which chromedriver')\n",
    "    sys.path.insert(0,driver_loc)\n",
    "    \n",
    "if Gproof == '':\n",
    "    # google_images_download installer\n",
    "    os.system('pip install google_images_download')\n",
    "if GDproof == '':\n",
    "    # Gallery-dl installer\n",
    "    os.system('pip install gallery-dl')\n",
    "G, F = -1, -1\n",
    "def check_file_count(path):\n",
    "    # set to neg 1 for iteration correction\n",
    "    G, F = -1, -1\n",
    "    for file in os.listdir(path):\n",
    "        #check file iterations\n",
    "        if 'G_ripped' in file:\n",
    "            G += 1\n",
    "        if 'F_ripped' in file:\n",
    "            F += 1\n",
    "    # if nothing is found set to 0\n",
    "    if G == -1:\n",
    "        G = 0\n",
    "    if F == -1:\n",
    "        F = 0\n",
    "    # return G and F\n",
    "    return G, F    \n",
    "\n",
    "# keyword to search images on\n",
    "Search=\"zombie portrait\"\n",
    "Search = Search.replace(' ','+')\n",
    "\n",
    "# Set max nr of images to fetch\n",
    "max_img=2000\n",
    "\n",
    "gallery_out_path='gallery-dl/'\n",
    "gallery_dump_path=gallery_out_path+'flickr/search/'+str(Search).replace('+',' ')+'/'\n",
    "google_out_path='downloads/'+str(Search)+'/'\n",
    "final_out_path='ripped_images/'+str(Search)+'/'\n",
    "\n",
    "try:\n",
    "    os.makedirs(final_out_path)\n",
    "except OSError as e:\n",
    "    if e.errno != errno.EEXIST:   \n",
    "        raise\n",
    "    else:\n",
    "        print('Counting files....')\n",
    "        G, F = check_file_count(final_out_path)\n",
    "\n",
    "# Google image run\n",
    "os.system('googleimagesdownload --keywords '+ str(Search) +' --limit '+ str(max_img) +' -cd '+ str(driver_loc))\n",
    "# Gallery image run\n",
    "os.system('gallery-dl --dest '+gallery_out_path+' --range 1-'+str(max_img)+' https://www.flickr.com/search/?text='+ Search)\n",
    "\n",
    "# iterate G's\n",
    "oldg = G\n",
    "countg = oldg\n",
    "for files in os.listdir(google_out_path):\n",
    "    if files.split('.')[len(files.split('.'))-1] == 'jpg' or files.split('.')[len(files.split('.'))-1] == 'jpeg':\n",
    "        os.rename(google_out_path+files, final_out_path+'G_ripped_'+str(files.split('.')[len(files.split('.'))-2])+'_'+str(countg)+\".jpg\") \n",
    "        countg+=1    \n",
    "# iterate F's\n",
    "oldf = F\n",
    "countf = oldf\n",
    "for files in os.listdir(gallery_dump_path):\n",
    "    if files.split('.')[len(files.split('.'))-1] == 'jpg' or files.split('.')[len(files.split('.'))-1] == 'jpeg':\n",
    "        os.rename(gallery_dump_path+files, final_out_path+'F_ripped_'+str(files.split('.')[len(files.split('.'))-2])+'_'+str(countf)+\".jpg\") \n",
    "        countf+=1\n",
    "        \n",
    "        \n",
    "print(\"Ripped : \"+str(countg)+' GoogleImage files in total. And '+str(countg - oldg)+' In this session')\n",
    "print(\"Ripped : \"+str(countg)+' Flickr files in total. And '+str(countf - oldf)+' In this session')\n",
    "os.system('sudo rm -r ./gallery-dl ./downloads')\n",
    "os.listdir(final_out_path)"
   ]
  },
  {
   "cell_type": "code",
   "execution_count": null,
   "metadata": {},
   "outputs": [],
   "source": []
  },
  {
   "cell_type": "code",
   "execution_count": null,
   "metadata": {},
   "outputs": [],
   "source": []
  }
 ],
 "metadata": {
  "kernelspec": {
   "display_name": "Python 3",
   "language": "python",
   "name": "python3"
  },
  "language_info": {
   "codemirror_mode": {
    "name": "ipython",
    "version": 3
   },
   "file_extension": ".py",
   "mimetype": "text/x-python",
   "name": "python",
   "nbconvert_exporter": "python",
   "pygments_lexer": "ipython3",
   "version": "3.5.0"
  }
 },
 "nbformat": 4,
 "nbformat_minor": 2
}
